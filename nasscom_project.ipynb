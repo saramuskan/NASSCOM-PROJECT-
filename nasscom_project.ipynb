{
  "nbformat": 4,
  "nbformat_minor": 0,
  "metadata": {
    "colab": {
      "name": "nasscom-project",
      "provenance": []
    },
    "kernelspec": {
      "name": "python3",
      "display_name": "Python 3"
    },
    "language_info": {
      "name": "python"
    }
  },
  "cells": [
    {
      "cell_type": "markdown",
      "metadata": {
        "id": "NMkCrZ5H2cdJ"
      },
      "source": [
        "Simple Linear Regression\n",
        "Machine Learning (ML): ML is an application of Artificial Intelligence (AI) that provides systems the ability to automatically learn themselves and improve from the experience without being explicitly programmed. ML focuses on the development of computer programs that can access data and use it to learn themselves.\n",
        "\n",
        "Data Set: A collection of related sets of information that is composed of separate elements but can be manipulated as a unit by a computer.\n",
        "\n",
        "Data Visualisation: It is a representation of data or information in a graph, chart, or other visual formats which is helpful to conduct analyses such as predictive analysis which can serve as helpful Visualisation to present.\n",
        "\n",
        "Data Cleaning: It is the process of fixing or removing incorrect, corrupted, incorrectly formatted, duplicate, or incomplete data within a dataset.\n",
        "\n",
        "Supervised Learning: The model is trained using ‘labeled data’. Datasets are said to contain labels that contain both input and output parameters. To simplify – ‘Data is already tagged with the correct answer’.\n",
        "\n",
        "Simple Linear Regression: It is a Regression Model that estimates the relationship between the independent variable and the dependent variable using a straight line [y = mx + c], where both the variables should be quantitative.\n",
        "\n",
        "Models: Those are output by algorithms and are comprised of model data and a prediction algorithm.\n",
        "\n",
        "Training Model: In supervised learning, an ML Algorithm builds a model by examining many examples and attempting to find a model that minimizes loss and improves prediction accuracy.\n",
        "\n",
        "These are the few terms used in this article and to get familiar with. Now let’s get started with the analysis and prediction of the model. In this tutorial, I am going to use supervised data and simple linear regression for analysis and prediction. The Ultimate goal is the predict the height of a person provides his age using the trained model to the highest achievable accuracy using available data. I have used the universal favorite programming language for ML i.e. Python to build and train the ML model and Google Colab Environment.\n",
        "\n",
        "The steps involved are:\n",
        "\n",
        "Importing the dataset.\n",
        "\n",
        "Visualising the Data\n",
        "\n",
        "Data Cleaning\n",
        "\n",
        "Build the Model and Train it\n",
        "\n",
        "Make Predictions on Unseen Data"
      ]
    },
    {
      "cell_type": "markdown",
      "metadata": {
        "id": "tgu9WfcE3ec_"
      },
      "source": [
        "1. IMPORTANT DATA SETS*"
      ]
    },
    {
      "cell_type": "code",
      "metadata": {
        "id": "mWVtaiHE3tPT"
      },
      "source": [
        "import pandas as pd\n",
        "import matplotlib.pyplot as plt"
      ],
      "execution_count": null,
      "outputs": []
    },
    {
      "cell_type": "code",
      "metadata": {
        "id": "mcRhu7FW4Fc-"
      },
      "source": [
        "df = pd.read_pickle(\"/content/AgesAndHeights.pkl\")\n",
        "df"
      ],
      "execution_count": null,
      "outputs": []
    },
    {
      "cell_type": "code",
      "metadata": {
        "colab": {
          "base_uri": "https://localhost:8080/"
        },
        "id": "Fg2PCH3Wac8K",
        "outputId": "ad670509-8682-4378-c259-7620c0ef6bfd"
      },
      "source": [
        "df.shape"
      ],
      "execution_count": null,
      "outputs": [
        {
          "output_type": "execute_result",
          "data": {
            "text/plain": [
              "(100, 2)"
            ]
          },
          "metadata": {},
          "execution_count": 3
        }
      ]
    },
    {
      "cell_type": "code",
      "metadata": {
        "colab": {
          "base_uri": "https://localhost:8080/",
          "height": 296
        },
        "id": "p3ZfGGhGajlq",
        "outputId": "1ad7f501-341b-4835-cbe9-f8453496439e"
      },
      "source": [
        "df.describe()"
      ],
      "execution_count": null,
      "outputs": [
        {
          "output_type": "execute_result",
          "data": {
            "text/html": [
              "<div>\n",
              "<style scoped>\n",
              "    .dataframe tbody tr th:only-of-type {\n",
              "        vertical-align: middle;\n",
              "    }\n",
              "\n",
              "    .dataframe tbody tr th {\n",
              "        vertical-align: top;\n",
              "    }\n",
              "\n",
              "    .dataframe thead th {\n",
              "        text-align: right;\n",
              "    }\n",
              "</style>\n",
              "<table border=\"1\" class=\"dataframe\">\n",
              "  <thead>\n",
              "    <tr style=\"text-align: right;\">\n",
              "      <th></th>\n",
              "      <th>Age</th>\n",
              "      <th>Height</th>\n",
              "    </tr>\n",
              "  </thead>\n",
              "  <tbody>\n",
              "    <tr>\n",
              "      <th>count</th>\n",
              "      <td>100.000000</td>\n",
              "      <td>100.000000</td>\n",
              "    </tr>\n",
              "    <tr>\n",
              "      <th>mean</th>\n",
              "      <td>7.966138</td>\n",
              "      <td>45.955674</td>\n",
              "    </tr>\n",
              "    <tr>\n",
              "      <th>std</th>\n",
              "      <td>5.321621</td>\n",
              "      <td>10.787318</td>\n",
              "    </tr>\n",
              "    <tr>\n",
              "      <th>min</th>\n",
              "      <td>-0.780853</td>\n",
              "      <td>27.332513</td>\n",
              "    </tr>\n",
              "    <tr>\n",
              "      <th>25%</th>\n",
              "      <td>3.048885</td>\n",
              "      <td>36.320107</td>\n",
              "    </tr>\n",
              "    <tr>\n",
              "      <th>50%</th>\n",
              "      <td>7.795597</td>\n",
              "      <td>46.178251</td>\n",
              "    </tr>\n",
              "    <tr>\n",
              "      <th>75%</th>\n",
              "      <td>11.464331</td>\n",
              "      <td>53.994166</td>\n",
              "    </tr>\n",
              "    <tr>\n",
              "      <th>max</th>\n",
              "      <td>17.887852</td>\n",
              "      <td>68.170414</td>\n",
              "    </tr>\n",
              "  </tbody>\n",
              "</table>\n",
              "</div>"
            ],
            "text/plain": [
              "              Age      Height\n",
              "count  100.000000  100.000000\n",
              "mean     7.966138   45.955674\n",
              "std      5.321621   10.787318\n",
              "min     -0.780853   27.332513\n",
              "25%      3.048885   36.320107\n",
              "50%      7.795597   46.178251\n",
              "75%     11.464331   53.994166\n",
              "max     17.887852   68.170414"
            ]
          },
          "metadata": {},
          "execution_count": 4
        }
      ]
    },
    {
      "cell_type": "markdown",
      "metadata": {
        "id": "G6R9i-yQamuw"
      },
      "source": [
        "# **2.Visualising the Data**"
      ]
    },
    {
      "cell_type": "markdown",
      "metadata": {
        "id": "C_8DkhA4atCf"
      },
      "source": [
        "We can see the data which we have and it contains only 2 columns namely, Age (in years) and Height (in inches) and 100 rows which is actually the representation of a person."
      ]
    },
    {
      "cell_type": "code",
      "metadata": {
        "colab": {
          "base_uri": "https://localhost:8080/",
          "height": 334
        },
        "id": "3AX7z-qRav5Z",
        "outputId": "c5678071-142e-4c20-b46e-29acc2ac9be8"
      },
      "source": [
        "df.hist()"
      ],
      "execution_count": null,
      "outputs": [
        {
          "output_type": "execute_result",
          "data": {
            "text/plain": [
              "array([[<matplotlib.axes._subplots.AxesSubplot object at 0x7f863699b4d0>,\n",
              "        <matplotlib.axes._subplots.AxesSubplot object at 0x7f863692b710>]],\n",
              "      dtype=object)"
            ]
          },
          "metadata": {},
          "execution_count": 5
        },
        {
          "output_type": "display_data",
          "data": {
            "image/png": "[encoded data removed]",
            "text/plain": [
              "<Figure size 432x288 with 2 Axes>"
            ]
          },
          "metadata": {
            "needs_background": "light"
          }
        }
      ]
    },
    {
      "cell_type": "markdown",
      "metadata": {
        "id": "wPPsRyt7a5c9"
      },
      "source": [
        "This single line of code has a great impact on the way we look at the dataset. We only had a numerical view of the dataset but we can now run this cell to get a histogram view of the dataset which is very helpful. It represents the data present in the individual columns as individual graphs.\n",
        "\n",
        "The Y-axis in both the plots refers to frequency and X-axis represents Age and Height respectively."
      ]
    },
    {
      "cell_type": "markdown",
      "metadata": {
        "id": "W1kM55x7a9Dk"
      },
      "source": [
        "# **3.Data Cleaning**"
      ]
    },
    {
      "cell_type": "markdown",
      "metadata": {
        "id": "bFjeoT7PbDS1"
      },
      "source": [
        "We have to build the model using valid datasets and clean the unaccountable Data. In the above image, we can know that there are a few entries that have an age less than zero which is meaningless. Hence, we need to clean those data to get better accuracy."
      ]
    },
    {
      "cell_type": "code",
      "metadata": {
        "colab": {
          "base_uri": "https://localhost:8080/",
          "height": 418
        },
        "id": "Evs-ewJ8bEGf",
        "outputId": "4ad05f09-b9fe-4925-ffe8-3c7d93b99470"
      },
      "source": [
        "cleaned_data = df[df['Age']>0]\n",
        "cleaned_data"
      ],
      "execution_count": null,
      "outputs": [
        {
          "output_type": "execute_result",
          "data": {
            "text/html": [
              "<div>\n",
              "<style scoped>\n",
              "    .dataframe tbody tr th:only-of-type {\n",
              "        vertical-align: middle;\n",
              "    }\n",
              "\n",
              "    .dataframe tbody tr th {\n",
              "        vertical-align: top;\n",
              "    }\n",
              "\n",
              "    .dataframe thead th {\n",
              "        text-align: right;\n",
              "    }\n",
              "</style>\n",
              "<table border=\"1\" class=\"dataframe\">\n",
              "  <thead>\n",
              "    <tr style=\"text-align: right;\">\n",
              "      <th></th>\n",
              "      <th>Age</th>\n",
              "      <th>Height</th>\n",
              "    </tr>\n",
              "  </thead>\n",
              "  <tbody>\n",
              "    <tr>\n",
              "      <th>0</th>\n",
              "      <td>14.767874</td>\n",
              "      <td>59.627484</td>\n",
              "    </tr>\n",
              "    <tr>\n",
              "      <th>1</th>\n",
              "      <td>3.107671</td>\n",
              "      <td>36.146453</td>\n",
              "    </tr>\n",
              "    <tr>\n",
              "      <th>2</th>\n",
              "      <td>7.266917</td>\n",
              "      <td>46.912878</td>\n",
              "    </tr>\n",
              "    <tr>\n",
              "      <th>3</th>\n",
              "      <td>1.815180</td>\n",
              "      <td>29.125660</td>\n",
              "    </tr>\n",
              "    <tr>\n",
              "      <th>4</th>\n",
              "      <td>16.753758</td>\n",
              "      <td>68.170414</td>\n",
              "    </tr>\n",
              "    <tr>\n",
              "      <th>...</th>\n",
              "      <td>...</td>\n",
              "      <td>...</td>\n",
              "    </tr>\n",
              "    <tr>\n",
              "      <th>95</th>\n",
              "      <td>7.323712</td>\n",
              "      <td>46.857505</td>\n",
              "    </tr>\n",
              "    <tr>\n",
              "      <th>96</th>\n",
              "      <td>5.591509</td>\n",
              "      <td>39.339990</td>\n",
              "    </tr>\n",
              "    <tr>\n",
              "      <th>97</th>\n",
              "      <td>2.625606</td>\n",
              "      <td>32.918925</td>\n",
              "    </tr>\n",
              "    <tr>\n",
              "      <th>98</th>\n",
              "      <td>5.519293</td>\n",
              "      <td>40.704154</td>\n",
              "    </tr>\n",
              "    <tr>\n",
              "      <th>99</th>\n",
              "      <td>13.117413</td>\n",
              "      <td>55.177407</td>\n",
              "    </tr>\n",
              "  </tbody>\n",
              "</table>\n",
              "<p>93 rows × 2 columns</p>\n",
              "</div>"
            ],
            "text/plain": [
              "          Age     Height\n",
              "0   14.767874  59.627484\n",
              "1    3.107671  36.146453\n",
              "2    7.266917  46.912878\n",
              "3    1.815180  29.125660\n",
              "4   16.753758  68.170414\n",
              "..        ...        ...\n",
              "95   7.323712  46.857505\n",
              "96   5.591509  39.339990\n",
              "97   2.625606  32.918925\n",
              "98   5.519293  40.704154\n",
              "99  13.117413  55.177407\n",
              "\n",
              "[93 rows x 2 columns]"
            ]
          },
          "metadata": {},
          "execution_count": 7
        }
      ]
    },
    {
      "cell_type": "markdown",
      "metadata": {
        "id": "IrwDTRhwbblc"
      },
      "source": [
        "I use variable cleaned_data to store the valid age values and display them to the user."
      ]
    },
    {
      "cell_type": "markdown",
      "metadata": {
        "id": "KD5CXc4QbcPq"
      },
      "source": [
        "Initially, we had 100 rows but after performing Data Cleaning it’s pretty clear that there are seven rows which we had age < 0 and we have removed them. As a professional, we aren’t supposed to delete the data as we are reducing the data and thereby accuracy of our model gets reduced. To keep it simple I have just removed them.\n",
        "\n",
        "Visualize the Cleaned Data: I have now used the cleaned data and visualized it in the form of a graph."
      ]
    },
    {
      "cell_type": "code",
      "metadata": {
        "id": "59Ev17L_2G89"
      },
      "source": [
        ""
      ],
      "execution_count": null,
      "outputs": []
    },
    {
      "cell_type": "code",
      "metadata": {
        "colab": {
          "base_uri": "https://localhost:8080/",
          "height": 313
        },
        "id": "GrC8MOffbgXg",
        "outputId": "9879ab6c-810b-4c06-aec0-1e525788ec15"
      },
      "source": [
        "ages = cleaned_data['Age']\n",
        "heights = cleaned_data['Height']\n",
        "plt.scatter(ages,heights,label='df')\n",
        "plt.title('Height Vs Age')\n",
        "plt.xlabel('Age[Years]')\n",
        "plt.ylabel('Height[Inches]')\n",
        "plt.legend()"
      ],
      "execution_count": null,
      "outputs": [
        {
          "output_type": "execute_result",
          "data": {
            "text/plain": [
              "<matplotlib.legend.Legend at 0x7f863699bbd0>"
            ]
          },
          "metadata": {},
          "execution_count": 8
        },
        {
          "output_type": "display_data",
          "data": {
            "image/png": "[encoded data removed]",
            "text/plain": [
              "<Figure size 432x288 with 1 Axes>"
            ]
          },
          "metadata": {
            "needs_background": "light"
          }
        }
      ]
    },
    {
      "cell_type": "markdown",
      "metadata": {
        "id": "YS_yW6Fxc_-q"
      },
      "source": [
        "# **4.Build the Model and Train it**"
      ]
    },
    {
      "cell_type": "code",
      "metadata": {
        "colab": {
          "base_uri": "https://localhost:8080/"
        },
        "id": "jebSr9YadvIQ",
        "outputId": "4286d0eb-57c9-4aa1-c72e-39441cd0edcc"
      },
      "source": [
        "def y_hat(age,params):\n",
        "  alpha=params['alpha']\n",
        "  beta=params['beta']\n",
        "  return alpha+beta*age\n",
        "y_hat(5,parameters)"
      ],
      "execution_count": null,
      "outputs": [
        {
          "output_type": "execute_result",
          "data": {
            "text/plain": [
              "60"
            ]
          },
          "metadata": {},
          "execution_count": 10
        }
      ]
    },
    {
      "cell_type": "markdown",
      "metadata": {
        "id": "PK5AB20yeBm_"
      },
      "source": [
        "I used a dictionary named parameters which has alpha and beta as key with 40 and 4 as values respectively. I have also defined a function y_hat which takes age, and params as parameters. This function uses the basic straight-line equation and returns y i.e. height as in our case. If we pass the required parameters and run the function, we find that the height we get for the age as input is not matched. Hence, we use the function mentioned below to rain the model."
      ]
    },
    {
      "cell_type": "code",
      "metadata": {
        "id": "mT2ajSF_eGJU"
      },
      "source": [
        "def learn_parameters(data,params):\n",
        "  x,y=df['Age'],df['Height']\n",
        "  x_bar,y_bar=x.mean(),y.mean()\n",
        "  x,y=x.to_numpy(),y.to_numpy()\n",
        "  beta = sum(((x-x_bar)*(y-y_bar))/sum((x-x_bar)**2))\n",
        "  alpha=y_bar-beta*x_bar\n",
        "  params['alpha']=alpha\n",
        "  params['beta']=beta"
      ],
      "execution_count": null,
      "outputs": []
    },
    {
      "cell_type": "markdown",
      "metadata": {
        "id": "IWYcGMaaf_FR"
      },
      "source": [
        "This is where we use a method to find the correct alpha and beta. The function learn_parameters takes cleaned_data and a dummy dictionary new_parameter which can have any value for alpha and beta. So, when we pass them as arguments to parameters and function runs and we can get the correct value of alpha and beta which is found to close to 30 and 2 respectively and replace the old values with the new ones."
      ]
    },
    {
      "cell_type": "code",
      "metadata": {
        "colab": {
          "base_uri": "https://localhost:8080/"
        },
        "id": "l6KSNyl0f_eV",
        "outputId": "1f89dd9a-b3b1-49e1-d610-05cb1cfd11b6"
      },
      "source": [
        "new_parameter = {'alpha':-2,'beta':1000}\n",
        "learn_parameters(cleaned_data,new_parameter)\n",
        "new_parameter"
      ],
      "execution_count": null,
      "outputs": [
        {
          "output_type": "execute_result",
          "data": {
            "text/plain": [
              "{'alpha': 30.138136682479868, 'beta': 1.9855967045381253}"
            ]
          },
          "metadata": {},
          "execution_count": 17
        }
      ]
    },
    {
      "cell_type": "markdown",
      "metadata": {
        "id": "p4rfH3pLgRSv"
      },
      "source": [
        "We have accurately found the values of alpha and beta, and our next goal is to train the data. But let me the untrained predicted values to what extent they are accurate."
      ]
    },
    {
      "cell_type": "code",
      "metadata": {
        "colab": {
          "base_uri": "https://localhost:8080/"
        },
        "id": "-gRUT_ELgUXD",
        "outputId": "9c774544-34ca-4a63-e882-a29ad1b4110a"
      },
      "source": [
        "spaced_ages=list(range(19))\n",
        "spaced_untrained_predictions = [y_hat(x,parameters) for x in spaced_ages]\n",
        "print(spaced_untrained_predictions)"
      ],
      "execution_count": null,
      "outputs": [
        {
          "output_type": "stream",
          "name": "stdout",
          "text": [
            "[40, 44, 48, 52, 56, 60, 64, 68, 72, 76, 80, 84, 88, 92, 96, 100, 104, 108, 112]\n"
          ]
        }
      ]
    },
    {
      "cell_type": "markdown",
      "metadata": {
        "id": "ggu3q_Q4gr57"
      },
      "source": [
        "I use a list named spaces_ages that has values from 0 to 18 (end – 1). Then another list named spaced_untrained_predictions that has the predicted values for the height uses the y_hat function defined earlier to predict it. These values are plotted in a graph and visualized."
      ]
    },
    {
      "cell_type": "code",
      "metadata": {
        "colab": {
          "base_uri": "https://localhost:8080/",
          "height": 313
        },
        "id": "G9Z1pLZwgrey",
        "outputId": "07ac26d9-3064-41a3-e9fe-037f7bd12c06"
      },
      "source": [
        "ages = cleaned_data['Age']\n",
        "heights=cleaned_data['Height']\n",
        "plt.scatter(ages,heights,label=\"df\")\n",
        "plt.plot(spaced_ages,spaced_untrained_predictions,label='Untrained Predictions',color='green')\n",
        "plt.title('Height Vs Age')\n",
        "plt.xlabel('Age[Years]')\n",
        "plt.ylabel('Height[Inches]')\n",
        "plt.legend()"
      ],
      "execution_count": null,
      "outputs": [
        {
          "output_type": "execute_result",
          "data": {
            "text/plain": [
              "<matplotlib.legend.Legend at 0x7f86311dfd90>"
            ]
          },
          "metadata": {},
          "execution_count": 24
        },
        {
          "output_type": "display_data",
          "data": {
            "image/png": "[encoded data removed]",
            "text/plain": [
              "<Figure size 432x288 with 1 Axes>"
            ]
          },
          "metadata": {
            "needs_background": "light"
          }
        }
      ]
    },
    {
      "cell_type": "markdown",
      "metadata": {
        "id": "jw74Qqu9hZbr"
      },
      "source": [
        "The green line shows that the spaced_untrained_predictions have largely deviated from the actual values and the accuracy is very poor. Hence, accuracy needs to be increased for which we need to train the data."
      ]
    },
    {
      "cell_type": "code",
      "metadata": {
        "colab": {
          "base_uri": "https://localhost:8080/",
          "height": 351
        },
        "id": "O4uwc3hyhlnH",
        "outputId": "5e2af9fa-1b92-4a5e-8796-024439c412ea"
      },
      "source": [
        "spaced_trained_predictions=[y_hat (x, new_parameter) for x in spaced_ages]\n",
        "print (spaced_trained_predictions)\n",
        "plt.scatter(ages,heights, label='df')\n",
        "plt.plot(spaced_ages,spaced_untrained_predictions,label='Untrained Predictions',color='green')\n",
        "plt.plot(spaced_ages, spaced_trained_predictions, label= 'Trained Predictions', color='red')\n",
        "plt.title('Height VS Age')\n",
        "plt.xlabel('Age[ Years]')\n",
        "plt.ylabel('Height [Inches]')"
      ],
      "execution_count": null,
      "outputs": [
        {
          "output_type": "stream",
          "name": "stdout",
          "text": [
            "[30.138136682479868, 32.12373338701799, 34.10933009155612, 36.09492679609424, 38.08052350063237, 40.06612020517049, 42.05171690970862, 44.03731361424674, 46.02291031878487, 48.00850702332299, 49.994103727861116, 51.97970043239924, 53.96529713693737, 55.9508938414755, 57.93649054601362, 59.92208725055175, 61.90768395508987, 63.893280659628, 65.87887736416613]\n"
          ]
        },
        {
          "output_type": "execute_result",
          "data": {
            "text/plain": [
              "Text(0, 0.5, 'Height [Inches]')"
            ]
          },
          "metadata": {},
          "execution_count": 28
        },
        {
          "output_type": "display_data",
          "data": {
            "image/png": "[encoded data removed]",
            "text/plain": [
              "<Figure size 432x288 with 1 Axes>"
            ]
          },
          "metadata": {
            "needs_background": "light"
          }
        }
      ]
    },
    {
      "cell_type": "markdown",
      "metadata": {
        "id": "zxq-GYdTk4Fw"
      },
      "source": [
        "# **5.Make Predictions on Unseen Data**"
      ]
    },
    {
      "cell_type": "markdown",
      "metadata": {
        "id": "z3g9aX2Rk-j-"
      },
      "source": [
        "With the help of this trained model, we can now make accurate predictions."
      ]
    },
    {
      "cell_type": "markdown",
      "metadata": {
        "id": "wsnB-ztG47Uh"
      },
      "source": [
        ""
      ]
    },
    {
      "cell_type": "code",
      "metadata": {
        "colab": {
          "base_uri": "https://localhost:8080/"
        },
        "id": "fiP3vGCVk80_",
        "outputId": "7e4eff83-3365-440f-c0a9-fd3a46168aee"
      },
      "source": [
        "new_age=int(input('Enter age to predict height : '))\n",
        "y_hat(new_age,new_parameter)"
      ],
      "execution_count": null,
      "outputs": [
        {
          "name": "stdout",
          "output_type": "stream",
          "text": [
            "Enter age to predict height : 3\n"
          ]
        },
        {
          "output_type": "execute_result",
          "data": {
            "text/plain": [
              "36.09492679609424"
            ]
          },
          "metadata": {},
          "execution_count": 29
        }
      ]
    },
    {
      "cell_type": "markdown",
      "metadata": {
        "id": "r8ctrc0IlOGA"
      },
      "source": [
        "So, we can see for any given age we find the possible height in inches. Finally, we have successfully trained the model and with utmost accuracy...."
      ]
    }
  ]
}